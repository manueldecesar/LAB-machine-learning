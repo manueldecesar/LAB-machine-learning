{
 "cells": [
  {
   "cell_type": "code",
   "execution_count": 1,
   "metadata": {},
   "outputs": [],
   "source": [
    "# Import some libraries\n",
    "import time\n",
    "import os\n",
    "#For counting elements\n",
    "from collections import Counter\n",
    "# For plotting data\n",
    "import matplotlib.pyplot as plt \n",
    "import numpy as np              \n",
    "# For Panda dataframes. A dataframe is a matrix-like structure, similar to R dataframes  \n",
    "import pandas as pd\n",
    "#For spliting train_test (does aleatorization yet))\n",
    "from sklearn.model_selection import train_test_split\n",
    "#For shuffling if not using train_test_split \n",
    "from sklearn.utils import shuffle \n",
    "#For Bernoulli Naive Bayes  Classifier\n",
    "from sklearn.naive_bayes import BernoulliNB\n",
    "#For Random Forest  Classifier\n",
    "from sklearn.ensemble import RandomForestClassifier\n",
    "#For Gradient boosting Classifier\n",
    "import xgboost as xgb\n",
    "#For grid Serach with cross-validation model selection\n",
    "from sklearn.model_selection import GridSearchCV\n",
    "#encoding labels\n",
    "from sklearn import preprocessing"
   ]
  },
  {
   "cell_type": "code",
   "execution_count": 2,
   "metadata": {},
   "outputs": [],
   "source": [
    "#Reading data set [only supervised instances:clients that have bougth another vehicle]\n",
    "data=pd.read_csv('RECENG_TRAIN_201408.csv')"
   ]
  },
  {
   "cell_type": "code",
   "execution_count": 3,
   "metadata": {},
   "outputs": [],
   "source": [
    "#Storing features in an array\n",
    "cols = data.columns.values\n",
    "features = cols[2:]"
   ]
  },
  {
   "cell_type": "code",
   "execution_count": 4,
   "metadata": {},
   "outputs": [
    {
     "data": {
      "image/png": "[encoded data removed]",
      "text/plain": [
       "<Figure size 864x576 with 1 Axes>"
      ]
     },
     "metadata": {},
     "output_type": "display_data"
    }
   ],
   "source": [
    "#Encrypting vehicles\n",
    "le=preprocessing.LabelEncoder()\n",
    "le.fit(list(data[cols[1]]))\n",
    "veh_model=le.transform(list(data[cols[1]]))\n",
    "\n",
    "#Counter class ocurrences\n",
    "classes_ocurrences=sorted(list(Counter(veh_model).items()),key=lambda x:-x[1]);classes_ocurrences\n",
    "\n",
    "\n",
    "height = [x[1]/len(data) for x in classes_ocurrences]\n",
    "bars = [x[0] for x in classes_ocurrences]\n",
    "y_pos = np.arange(len(bars))\n",
    "fig=plt.figure(figsize=(12,8))\n",
    "# Create bars\n",
    "plt.bar(y_pos, height)\n",
    " \n",
    "# Create names on the x-axis\n",
    "plt.xticks(y_pos, bars,rotation=90)\n",
    " \n",
    "# Show graphic\n",
    "plt.xlabel(\"New Vehicle\")\n",
    "plt.ylabel(\"Relative Frecuency\")\n",
    "plt.show()"
   ]
  },
  {
   "cell_type": "code",
   "execution_count": 5,
   "metadata": {},
   "outputs": [
    {
     "name": "stdout",
     "output_type": "stream",
     "text": [
      "{21: 2782, 23: 2451, 0: 2341, 1: 2340, 8: 2309, 24: 1956, 5: 1517, 10: 1168, 3: 811, 14: 499, 22: 408, 15: 320, 27: 278, 20: 228, 25: 225, 6: 215, 4: 198, 16: 191, 2: 171, 28: 171, 12: 148, 29: 101, 7: 67, 11: 65, 26: 46, 32: 27, 18: 21, 19: 18}\n"
     ]
    },
    {
     "name": "stderr",
     "output_type": "stream",
     "text": [
      "/home/umcs2/anaconda3/lib/python3.6/site-packages/sklearn/preprocessing/label.py:151: DeprecationWarning: The truth value of an empty array is ambiguous. Returning False, but in future this will result in an error. Use `array.size > 0` to check that an array is not empty.\n",
      "  if diff:\n"
     ]
    }
   ],
   "source": [
    "#Filter Classes with too few ocurrences (for example 10, to avoid cv with no representation)\n",
    "classes_enough_ocurrences={ k:v for (k,v) in classes_ocurrences if v>=10}\n",
    "print(classes_enough_ocurrences)\n",
    "data=data[data[cols[1]].isin(le.inverse_transform(list(classes_enough_ocurrences.keys())))]"
   ]
  },
  {
   "cell_type": "code",
   "execution_count": 6,
   "metadata": {},
   "outputs": [
    {
     "data": {
      "text/plain": [
       "28"
      ]
     },
     "execution_count": 6,
     "metadata": {},
     "output_type": "execute_result"
    }
   ],
   "source": [
    "#remainning classes\n",
    "len(set(data[cols[1]]))"
   ]
  },
  {
   "cell_type": "code",
   "execution_count": 7,
   "metadata": {},
   "outputs": [],
   "source": [
    "#Shuffling data (useful in case we won't use train_test_split and for asuring randomness)\n",
    "data = shuffle(data)"
   ]
  },
  {
   "cell_type": "code",
   "execution_count": 8,
   "metadata": {},
   "outputs": [],
   "source": [
    "#Splitting data set in train and test input(X) and target(y)\n",
    "X = pd.get_dummies(data[features])\n",
    "y = data[\"target_Model_Desc\"]\n",
    "\n",
    "X_train, X_test, y_train, y_test = train_test_split(X, y ,test_size=0.2)"
   ]
  },
  {
   "cell_type": "code",
   "execution_count": 9,
   "metadata": {},
   "outputs": [
    {
     "name": "stdout",
     "output_type": "stream",
     "text": [
      "Trainning time  3.5871124267578125  s\n"
     ]
    }
   ],
   "source": [
    "#Training Bernoulli Naive Bayes Classifier with GridSearch of hyperparameters and cross-validation\n",
    "start = time.time()\n",
    "hyperparametersNB = { 'alpha':[0.1,0.5,0.2,0.8,1,5, 10]}\n",
    "clfNB = BernoulliNB( )\n",
    "gridNB = GridSearchCV(clfNB, hyperparametersNB,n_jobs=4, cv=4,scoring='accuracy',return_train_score=True)\n",
    "gridNB.fit(X_train, y_train)\n",
    "end = time.time()\n",
    "t=end-start\n",
    "print('Trainning time ',t,' s')"
   ]
  },
  {
   "cell_type": "code",
   "execution_count": 10,
   "metadata": {
    "scrolled": true
   },
   "outputs": [
    {
     "data": {
      "text/html": [
       "<div>\n",
       "<style scoped>\n",
       "    .dataframe tbody tr th:only-of-type {\n",
       "        vertical-align: middle;\n",
       "    }\n",
       "\n",
       "    .dataframe tbody tr th {\n",
       "        vertical-align: top;\n",
       "    }\n",
       "\n",
       "    .dataframe thead th {\n",
       "        text-align: right;\n",
       "    }\n",
       "</style>\n",
       "<table border=\"1\" class=\"dataframe\">\n",
       "  <thead>\n",
       "    <tr style=\"text-align: right;\">\n",
       "      <th></th>\n",
       "      <th>mean_test_score</th>\n",
       "      <th>mean_train_score</th>\n",
       "      <th>param_alpha</th>\n",
       "      <th>std_test_score</th>\n",
       "      <th>std_train_score</th>\n",
       "    </tr>\n",
       "  </thead>\n",
       "  <tbody>\n",
       "    <tr>\n",
       "      <th>6</th>\n",
       "      <td>0.223646</td>\n",
       "      <td>0.234759</td>\n",
       "      <td>10</td>\n",
       "      <td>0.009644</td>\n",
       "      <td>0.002062</td>\n",
       "    </tr>\n",
       "    <tr>\n",
       "      <th>5</th>\n",
       "      <td>0.218959</td>\n",
       "      <td>0.230685</td>\n",
       "      <td>5</td>\n",
       "      <td>0.008130</td>\n",
       "      <td>0.002208</td>\n",
       "    </tr>\n",
       "    <tr>\n",
       "      <th>4</th>\n",
       "      <td>0.201578</td>\n",
       "      <td>0.214965</td>\n",
       "      <td>1</td>\n",
       "      <td>0.002627</td>\n",
       "      <td>0.002894</td>\n",
       "    </tr>\n",
       "    <tr>\n",
       "      <th>3</th>\n",
       "      <td>0.200510</td>\n",
       "      <td>0.213976</td>\n",
       "      <td>0.8</td>\n",
       "      <td>0.002323</td>\n",
       "      <td>0.003600</td>\n",
       "    </tr>\n",
       "    <tr>\n",
       "      <th>1</th>\n",
       "      <td>0.197603</td>\n",
       "      <td>0.211979</td>\n",
       "      <td>0.5</td>\n",
       "      <td>0.003127</td>\n",
       "      <td>0.003943</td>\n",
       "    </tr>\n",
       "    <tr>\n",
       "      <th>2</th>\n",
       "      <td>0.196417</td>\n",
       "      <td>0.210614</td>\n",
       "      <td>0.2</td>\n",
       "      <td>0.003726</td>\n",
       "      <td>0.004027</td>\n",
       "    </tr>\n",
       "    <tr>\n",
       "      <th>0</th>\n",
       "      <td>0.195705</td>\n",
       "      <td>0.210318</td>\n",
       "      <td>0.1</td>\n",
       "      <td>0.003869</td>\n",
       "      <td>0.003919</td>\n",
       "    </tr>\n",
       "  </tbody>\n",
       "</table>\n",
       "</div>"
      ],
      "text/plain": [
       "   mean_test_score  mean_train_score param_alpha  std_test_score  \\\n",
       "6         0.223646          0.234759          10        0.009644   \n",
       "5         0.218959          0.230685           5        0.008130   \n",
       "4         0.201578          0.214965           1        0.002627   \n",
       "3         0.200510          0.213976         0.8        0.002323   \n",
       "1         0.197603          0.211979         0.5        0.003127   \n",
       "2         0.196417          0.210614         0.2        0.003726   \n",
       "0         0.195705          0.210318         0.1        0.003869   \n",
       "\n",
       "   std_train_score  \n",
       "6         0.002062  \n",
       "5         0.002208  \n",
       "4         0.002894  \n",
       "3         0.003600  \n",
       "1         0.003943  \n",
       "2         0.004027  \n",
       "0         0.003919  "
      ]
     },
     "execution_count": 10,
     "metadata": {},
     "output_type": "execute_result"
    }
   ],
   "source": [
    "pd.DataFrame(gridNB.cv_results_)[sorted( set(sorted(gridNB.cv_results_.keys())[2:5])| set(sorted(gridNB.cv_results_.keys())[17:]))].sort_values(by='mean_test_score', ascending=False)"
   ]
  },
  {
   "cell_type": "code",
   "execution_count": 11,
   "metadata": {},
   "outputs": [
    {
     "data": {
      "text/plain": [
       "0.13202353834472286"
      ]
     },
     "execution_count": 11,
     "metadata": {},
     "output_type": "execute_result"
    }
   ],
   "source": [
    "#Necessary accuracy\n",
    "#Predict the most frequent class always\n",
    "classes_ocurrences[0][1]/len(X)"
   ]
  },
  {
   "cell_type": "code",
   "execution_count": 12,
   "metadata": {},
   "outputs": [
    {
     "name": "stdout",
     "output_type": "stream",
     "text": [
      "Trainning time  91.03984928131104  s\n"
     ]
    }
   ],
   "source": [
    "#Training Random Forest Classifier with GridSearch of hyperparameters and cross-validation\n",
    "start = time.time()\n",
    "hyperparametersRF = { 'n_estimators':[100,200,300],'max_depth':[5,10,20]}\n",
    "clfRF = RandomForestClassifier()\n",
    "gridRF = GridSearchCV(clfRF, hyperparametersRF, n_jobs=4, cv=4,scoring='accuracy',return_train_score=True)\n",
    "gridRF.fit(X_train, y_train)\n",
    "end = time.time()\n",
    "t=end-start\n",
    "print('Trainning time ',t,' s')"
   ]
  },
  {
   "cell_type": "code",
   "execution_count": 13,
   "metadata": {},
   "outputs": [
    {
     "data": {
      "text/html": [
       "<div>\n",
       "<style scoped>\n",
       "    .dataframe tbody tr th:only-of-type {\n",
       "        vertical-align: middle;\n",
       "    }\n",
       "\n",
       "    .dataframe tbody tr th {\n",
       "        vertical-align: top;\n",
       "    }\n",
       "\n",
       "    .dataframe thead th {\n",
       "        text-align: right;\n",
       "    }\n",
       "</style>\n",
       "<table border=\"1\" class=\"dataframe\">\n",
       "  <thead>\n",
       "    <tr style=\"text-align: right;\">\n",
       "      <th></th>\n",
       "      <th>mean_test_score</th>\n",
       "      <th>mean_train_score</th>\n",
       "      <th>param_max_depth</th>\n",
       "      <th>param_n_estimators</th>\n",
       "      <th>std_test_score</th>\n",
       "      <th>std_train_score</th>\n",
       "    </tr>\n",
       "  </thead>\n",
       "  <tbody>\n",
       "    <tr>\n",
       "      <th>5</th>\n",
       "      <td>0.263867</td>\n",
       "      <td>0.438374</td>\n",
       "      <td>10</td>\n",
       "      <td>300</td>\n",
       "      <td>0.002171</td>\n",
       "      <td>0.001821</td>\n",
       "    </tr>\n",
       "    <tr>\n",
       "      <th>4</th>\n",
       "      <td>0.262858</td>\n",
       "      <td>0.434459</td>\n",
       "      <td>10</td>\n",
       "      <td>200</td>\n",
       "      <td>0.003307</td>\n",
       "      <td>0.001143</td>\n",
       "    </tr>\n",
       "    <tr>\n",
       "      <th>3</th>\n",
       "      <td>0.262443</td>\n",
       "      <td>0.438988</td>\n",
       "      <td>10</td>\n",
       "      <td>100</td>\n",
       "      <td>0.001931</td>\n",
       "      <td>0.001466</td>\n",
       "    </tr>\n",
       "    <tr>\n",
       "      <th>8</th>\n",
       "      <td>0.242036</td>\n",
       "      <td>0.986059</td>\n",
       "      <td>20</td>\n",
       "      <td>300</td>\n",
       "      <td>0.003781</td>\n",
       "      <td>0.000781</td>\n",
       "    </tr>\n",
       "    <tr>\n",
       "      <th>7</th>\n",
       "      <td>0.241146</td>\n",
       "      <td>0.986118</td>\n",
       "      <td>20</td>\n",
       "      <td>200</td>\n",
       "      <td>0.001003</td>\n",
       "      <td>0.001283</td>\n",
       "    </tr>\n",
       "    <tr>\n",
       "      <th>0</th>\n",
       "      <td>0.238714</td>\n",
       "      <td>0.253504</td>\n",
       "      <td>5</td>\n",
       "      <td>100</td>\n",
       "      <td>0.002217</td>\n",
       "      <td>0.002403</td>\n",
       "    </tr>\n",
       "    <tr>\n",
       "      <th>6</th>\n",
       "      <td>0.238239</td>\n",
       "      <td>0.985011</td>\n",
       "      <td>20</td>\n",
       "      <td>100</td>\n",
       "      <td>0.005385</td>\n",
       "      <td>0.000784</td>\n",
       "    </tr>\n",
       "    <tr>\n",
       "      <th>1</th>\n",
       "      <td>0.237765</td>\n",
       "      <td>0.255166</td>\n",
       "      <td>5</td>\n",
       "      <td>200</td>\n",
       "      <td>0.004092</td>\n",
       "      <td>0.002264</td>\n",
       "    </tr>\n",
       "    <tr>\n",
       "      <th>2</th>\n",
       "      <td>0.237765</td>\n",
       "      <td>0.254909</td>\n",
       "      <td>5</td>\n",
       "      <td>300</td>\n",
       "      <td>0.004493</td>\n",
       "      <td>0.001342</td>\n",
       "    </tr>\n",
       "  </tbody>\n",
       "</table>\n",
       "</div>"
      ],
      "text/plain": [
       "   mean_test_score  mean_train_score param_max_depth param_n_estimators  \\\n",
       "5         0.263867          0.438374              10                300   \n",
       "4         0.262858          0.434459              10                200   \n",
       "3         0.262443          0.438988              10                100   \n",
       "8         0.242036          0.986059              20                300   \n",
       "7         0.241146          0.986118              20                200   \n",
       "0         0.238714          0.253504               5                100   \n",
       "6         0.238239          0.985011              20                100   \n",
       "1         0.237765          0.255166               5                200   \n",
       "2         0.237765          0.254909               5                300   \n",
       "\n",
       "   std_test_score  std_train_score  \n",
       "5        0.002171         0.001821  \n",
       "4        0.003307         0.001143  \n",
       "3        0.001931         0.001466  \n",
       "8        0.003781         0.000781  \n",
       "7        0.001003         0.001283  \n",
       "0        0.002217         0.002403  \n",
       "6        0.005385         0.000784  \n",
       "1        0.004092         0.002264  \n",
       "2        0.004493         0.001342  "
      ]
     },
     "execution_count": 13,
     "metadata": {},
     "output_type": "execute_result"
    }
   ],
   "source": [
    "pd.DataFrame(gridRF.cv_results_)[sorted( set(sorted(gridRF.cv_results_.keys())[2:6])| set(sorted(gridRF.cv_results_.keys())[18:]))].sort_values(by='mean_test_score', ascending=False)"
   ]
  },
  {
   "cell_type": "code",
   "execution_count": null,
   "metadata": {},
   "outputs": [
    {
     "name": "stderr",
     "output_type": "stream",
     "text": [
      "/home/umcs2/anaconda3/lib/python3.6/site-packages/sklearn/preprocessing/label.py:151: DeprecationWarning: The truth value of an empty array is ambiguous. Returning False, but in future this will result in an error. Use `array.size > 0` to check that an array is not empty.\n",
      "  if diff:\n",
      "/home/umcs2/anaconda3/lib/python3.6/site-packages/sklearn/preprocessing/label.py:151: DeprecationWarning: The truth value of an empty array is ambiguous. Returning False, but in future this will result in an error. Use `array.size > 0` to check that an array is not empty.\n",
      "  if diff:\n",
      "/home/umcs2/anaconda3/lib/python3.6/site-packages/sklearn/preprocessing/label.py:151: DeprecationWarning: The truth value of an empty array is ambiguous. Returning False, but in future this will result in an error. Use `array.size > 0` to check that an array is not empty.\n",
      "  if diff:\n",
      "/home/umcs2/anaconda3/lib/python3.6/site-packages/sklearn/preprocessing/label.py:151: DeprecationWarning: The truth value of an empty array is ambiguous. Returning False, but in future this will result in an error. Use `array.size > 0` to check that an array is not empty.\n",
      "  if diff:\n",
      "/home/umcs2/anaconda3/lib/python3.6/site-packages/sklearn/preprocessing/label.py:151: DeprecationWarning: The truth value of an empty array is ambiguous. Returning False, but in future this will result in an error. Use `array.size > 0` to check that an array is not empty.\n",
      "  if diff:\n",
      "/home/umcs2/anaconda3/lib/python3.6/site-packages/sklearn/preprocessing/label.py:151: DeprecationWarning: The truth value of an empty array is ambiguous. Returning False, but in future this will result in an error. Use `array.size > 0` to check that an array is not empty.\n",
      "  if diff:\n",
      "/home/umcs2/anaconda3/lib/python3.6/site-packages/sklearn/preprocessing/label.py:151: DeprecationWarning: The truth value of an empty array is ambiguous. Returning False, but in future this will result in an error. Use `array.size > 0` to check that an array is not empty.\n",
      "  if diff:\n",
      "/home/umcs2/anaconda3/lib/python3.6/site-packages/sklearn/preprocessing/label.py:151: DeprecationWarning: The truth value of an empty array is ambiguous. Returning False, but in future this will result in an error. Use `array.size > 0` to check that an array is not empty.\n",
      "  if diff:\n",
      "/home/umcs2/anaconda3/lib/python3.6/site-packages/sklearn/preprocessing/label.py:151: DeprecationWarning: The truth value of an empty array is ambiguous. Returning False, but in future this will result in an error. Use `array.size > 0` to check that an array is not empty.\n",
      "  if diff:\n",
      "/home/umcs2/anaconda3/lib/python3.6/site-packages/sklearn/preprocessing/label.py:151: DeprecationWarning: The truth value of an empty array is ambiguous. Returning False, but in future this will result in an error. Use `array.size > 0` to check that an array is not empty.\n",
      "  if diff:\n",
      "/home/umcs2/anaconda3/lib/python3.6/site-packages/sklearn/preprocessing/label.py:151: DeprecationWarning: The truth value of an empty array is ambiguous. Returning False, but in future this will result in an error. Use `array.size > 0` to check that an array is not empty.\n",
      "  if diff:\n",
      "/home/umcs2/anaconda3/lib/python3.6/site-packages/sklearn/preprocessing/label.py:151: DeprecationWarning: The truth value of an empty array is ambiguous. Returning False, but in future this will result in an error. Use `array.size > 0` to check that an array is not empty.\n",
      "  if diff:\n",
      "/home/umcs2/anaconda3/lib/python3.6/site-packages/sklearn/preprocessing/label.py:151: DeprecationWarning: The truth value of an empty array is ambiguous. Returning False, but in future this will result in an error. Use `array.size > 0` to check that an array is not empty.\n",
      "  if diff:\n",
      "/home/umcs2/anaconda3/lib/python3.6/site-packages/sklearn/preprocessing/label.py:151: DeprecationWarning: The truth value of an empty array is ambiguous. Returning False, but in future this will result in an error. Use `array.size > 0` to check that an array is not empty.\n",
      "  if diff:\n",
      "/home/umcs2/anaconda3/lib/python3.6/site-packages/sklearn/preprocessing/label.py:151: DeprecationWarning: The truth value of an empty array is ambiguous. Returning False, but in future this will result in an error. Use `array.size > 0` to check that an array is not empty.\n",
      "  if diff:\n",
      "/home/umcs2/anaconda3/lib/python3.6/site-packages/sklearn/preprocessing/label.py:151: DeprecationWarning: The truth value of an empty array is ambiguous. Returning False, but in future this will result in an error. Use `array.size > 0` to check that an array is not empty.\n",
      "  if diff:\n",
      "/home/umcs2/anaconda3/lib/python3.6/site-packages/sklearn/preprocessing/label.py:151: DeprecationWarning: The truth value of an empty array is ambiguous. Returning False, but in future this will result in an error. Use `array.size > 0` to check that an array is not empty.\n",
      "  if diff:\n",
      "/home/umcs2/anaconda3/lib/python3.6/site-packages/sklearn/preprocessing/label.py:151: DeprecationWarning: The truth value of an empty array is ambiguous. Returning False, but in future this will result in an error. Use `array.size > 0` to check that an array is not empty.\n",
      "  if diff:\n",
      "/home/umcs2/anaconda3/lib/python3.6/site-packages/sklearn/preprocessing/label.py:151: DeprecationWarning: The truth value of an empty array is ambiguous. Returning False, but in future this will result in an error. Use `array.size > 0` to check that an array is not empty.\n",
      "  if diff:\n",
      "/home/umcs2/anaconda3/lib/python3.6/site-packages/sklearn/preprocessing/label.py:151: DeprecationWarning: The truth value of an empty array is ambiguous. Returning False, but in future this will result in an error. Use `array.size > 0` to check that an array is not empty.\n",
      "  if diff:\n",
      "/home/umcs2/anaconda3/lib/python3.6/site-packages/sklearn/preprocessing/label.py:151: DeprecationWarning: The truth value of an empty array is ambiguous. Returning False, but in future this will result in an error. Use `array.size > 0` to check that an array is not empty.\n",
      "  if diff:\n",
      "/home/umcs2/anaconda3/lib/python3.6/site-packages/sklearn/preprocessing/label.py:151: DeprecationWarning: The truth value of an empty array is ambiguous. Returning False, but in future this will result in an error. Use `array.size > 0` to check that an array is not empty.\n",
      "  if diff:\n",
      "/home/umcs2/anaconda3/lib/python3.6/site-packages/sklearn/preprocessing/label.py:151: DeprecationWarning: The truth value of an empty array is ambiguous. Returning False, but in future this will result in an error. Use `array.size > 0` to check that an array is not empty.\n",
      "  if diff:\n",
      "/home/umcs2/anaconda3/lib/python3.6/site-packages/sklearn/preprocessing/label.py:151: DeprecationWarning: The truth value of an empty array is ambiguous. Returning False, but in future this will result in an error. Use `array.size > 0` to check that an array is not empty.\n",
      "  if diff:\n",
      "/home/umcs2/anaconda3/lib/python3.6/site-packages/sklearn/preprocessing/label.py:151: DeprecationWarning: The truth value of an empty array is ambiguous. Returning False, but in future this will result in an error. Use `array.size > 0` to check that an array is not empty.\n",
      "  if diff:\n",
      "/home/umcs2/anaconda3/lib/python3.6/site-packages/sklearn/preprocessing/label.py:151: DeprecationWarning: The truth value of an empty array is ambiguous. Returning False, but in future this will result in an error. Use `array.size > 0` to check that an array is not empty.\n",
      "  if diff:\n",
      "/home/umcs2/anaconda3/lib/python3.6/site-packages/sklearn/preprocessing/label.py:151: DeprecationWarning: The truth value of an empty array is ambiguous. Returning False, but in future this will result in an error. Use `array.size > 0` to check that an array is not empty.\n",
      "  if diff:\n",
      "/home/umcs2/anaconda3/lib/python3.6/site-packages/sklearn/preprocessing/label.py:151: DeprecationWarning: The truth value of an empty array is ambiguous. Returning False, but in future this will result in an error. Use `array.size > 0` to check that an array is not empty.\n",
      "  if diff:\n",
      "/home/umcs2/anaconda3/lib/python3.6/site-packages/sklearn/preprocessing/label.py:151: DeprecationWarning: The truth value of an empty array is ambiguous. Returning False, but in future this will result in an error. Use `array.size > 0` to check that an array is not empty.\n",
      "  if diff:\n"
     ]
    },
    {
     "name": "stderr",
     "output_type": "stream",
     "text": [
      "/home/umcs2/anaconda3/lib/python3.6/site-packages/sklearn/preprocessing/label.py:151: DeprecationWarning: The truth value of an empty array is ambiguous. Returning False, but in future this will result in an error. Use `array.size > 0` to check that an array is not empty.\n",
      "  if diff:\n",
      "/home/umcs2/anaconda3/lib/python3.6/site-packages/sklearn/preprocessing/label.py:151: DeprecationWarning: The truth value of an empty array is ambiguous. Returning False, but in future this will result in an error. Use `array.size > 0` to check that an array is not empty.\n",
      "  if diff:\n",
      "/home/umcs2/anaconda3/lib/python3.6/site-packages/sklearn/preprocessing/label.py:151: DeprecationWarning: The truth value of an empty array is ambiguous. Returning False, but in future this will result in an error. Use `array.size > 0` to check that an array is not empty.\n",
      "  if diff:\n"
     ]
    }
   ],
   "source": [
    "#Training Gradient boosting Classifier with GridSearch of hyperparameters and cross-validation\n",
    "start = time.time()\n",
    "hyperparametersGB = {'n_estimators': [5,10,20],'max_depth': [ 3,6,12]}\n",
    "clfGB = xgb.XGBClassifier(nthread=1,booster = 'gbtree',objective='binary:logistic')\n",
    "gridGB = GridSearchCV(estimator=clfGB, param_grid=hyperparametersGB, n_jobs=4, cv=4, scoring=\"accuracy\", verbose=0,\n",
    "                    refit=True,return_train_score=True)\n",
    "gridGB.fit(X_train, y_train)\n",
    "end = time.time()\n",
    "t=end-start\n",
    "print('Trainning time ',t,' s')"
   ]
  },
  {
   "cell_type": "code",
   "execution_count": null,
   "metadata": {},
   "outputs": [],
   "source": [
    "pd.DataFrame(gridGB.cv_results_)[sorted( set(sorted(gridGB.cv_results_.keys())[2:6])| set(sorted(gridGB.cv_results_.keys())[18:]))].sort_values(by='mean_test_score', ascending=False)"
   ]
  },
  {
   "cell_type": "code",
   "execution_count": null,
   "metadata": {},
   "outputs": [],
   "source": [
    "#Final model\n",
    "#score train\n",
    "print('Train score')\n",
    "print('BernoulliNB',gridNB.best_estimator_.score(X_train,y_train))\n",
    "print('RandomForest',gridRF.best_estimator_.score(X_train,y_train))\n",
    "print('GradientBoost',gridGB.best_estimator_.score(X_train,y_train))\n",
    "#score test\n",
    "print('Test score')\n",
    "print('BernoulliNB',gridNB.best_estimator_.score(X_test,y_test))\n",
    "print('RandomForest',gridRF.best_estimator_.score(X_test,y_test))\n",
    "print('GradientBoost',gridGB.best_estimator_.score(X_test,y_test))"
   ]
  },
  {
   "cell_type": "code",
   "execution_count": null,
   "metadata": {},
   "outputs": [],
   "source": [
    "#Necessary accuracy\n",
    "#Predict the most frequent class always \n",
    "classes_ocurrences[0][1]/len(X)"
   ]
  },
  {
   "cell_type": "code",
   "execution_count": null,
   "metadata": {},
   "outputs": [],
   "source": [
    "# make prediction\n",
    "start = time.time()\n",
    "preds = gridGB.predict(X_test)\n",
    "end = time.time()\n",
    "t=end-start\n",
    "print('Prediction time',t,' s')\n",
    "le.transform(preds) #encoded results"
   ]
  },
  {
   "cell_type": "code",
   "execution_count": null,
   "metadata": {
    "scrolled": true
   },
   "outputs": [],
   "source": [
    "#Classification report\n",
    "from sklearn.metrics import classification_report\n",
    "y_est=gridGB.predict(X_test)\n",
    "print(classification_report(le.transform(y_test), le.transform(y_est)))"
   ]
  },
  {
   "cell_type": "code",
   "execution_count": null,
   "metadata": {},
   "outputs": [],
   "source": [
    "# Get predicted probabilities by class for each instance\n",
    "print('Sum of all probabilities = ',sum(gridGB.predict_proba(X[1:2])[0]))\n",
    "classes_probability=sorted(zip(le.transform(gridGB.classes_),gridGB.predict_proba(X[1:2])[0]),key=lambda x:-x[1])\n",
    "\n",
    "height = [x[1] for x in classes_probability]\n",
    "bars = [x[0] for x in classes_probability]\n",
    "y_pos = np.arange(len(bars))\n",
    "fig=plt.figure(figsize=(12,8))\n",
    "# Create bars\n",
    "plt.bar(y_pos, height)\n",
    " \n",
    "# Create names on the x-axis\n",
    "plt.xticks(y_pos, bars,rotation=90)\n",
    " \n",
    "# Show graphic\n",
    "plt.xlabel(\"New Vehicle\")\n",
    "plt.ylabel(\"Probability\")\n",
    "plt.show()"
   ]
  },
  {
   "cell_type": "code",
   "execution_count": null,
   "metadata": {},
   "outputs": [],
   "source": [
    "#feature importance (not for naive bayes)\n",
    "dummies=X.columns.values\n",
    "\n",
    "#encoding features\n",
    "le_d=preprocessing.LabelEncoder()\n",
    "le_d.fit(X.columns.values)\n",
    "dummies=le_d.transform(X.columns.values)\n",
    "\n",
    "\n",
    "dummy_importance=sorted(zip(dummies,gridGB.best_estimator_.feature_importances_ ),key=lambda x:-x[1])\n",
    "\n",
    "height = [x[1] for x in dummy_importance[0:20]]\n",
    "bars = [x[0] for x in dummy_importance[0:20]]\n",
    "y_pos = np.arange(len(bars))\n",
    "fig=plt.figure(figsize=(12,8))\n",
    "# Create bars\n",
    "plt.bar(y_pos, height)\n",
    " \n",
    "# Create names on the x-axis\n",
    "plt.xticks(y_pos, bars,rotation=90)\n",
    " \n",
    "# Show graphic\n",
    "plt.xlabel(\"Features\")\n",
    "plt.ylabel(\"Importance\")\n",
    "plt.show()"
   ]
  },
  {
   "cell_type": "code",
   "execution_count": null,
   "metadata": {},
   "outputs": [],
   "source": [
    "# make n prediction\n",
    "n=5 #28 max the number of classes 7-->82% accuracy GB 14-->95% accuracy GB\n",
    "start = time.time()\n",
    "pred_probas = gridGB.predict_proba(X_test)#better results for GB, then RF and least NB\n",
    "predsn=[[]]*pred_probas.shape[0]\n",
    "for i in range(0,pred_probas.shape[0]):\n",
    "    predsn[i]=[x[0] for x in sorted(zip(gridGB.classes_,pred_probas[i]),key=lambda x:-x[1])[0:n]]\n",
    "end = time.time()\n",
    "t=end-start\n",
    "print('Tiempo de entrenamiento ',t,' s')\n",
    "[le.transform(x)[0] for x in predsn] #encoded results"
   ]
  },
  {
   "cell_type": "code",
   "execution_count": null,
   "metadata": {},
   "outputs": [],
   "source": [
    "#accuracy n\n",
    "accn=0\n",
    "y_test_l=list(y_test)\n",
    "for i in range(0,len(predsn)):\n",
    "    if y_test_l[i] in set(predsn[i]):\n",
    "        accn=accn+1\n",
    "accn=accn/len(predsn);accn"
   ]
  },
  {
   "cell_type": "code",
   "execution_count": null,
   "metadata": {},
   "outputs": [],
   "source": [
    "#Necessary accuracy\n",
    "#Always predict the most n frequent class\n",
    "sum([x[1] for x in classes_ocurrences][0:n])/len(X)"
   ]
  },
  {
   "cell_type": "code",
   "execution_count": null,
   "metadata": {},
   "outputs": [],
   "source": [
    "#predictions with probabilities\n",
    "pred_probas = gridGB.predict_proba(X_test)\n",
    "predsn_prob=[[]]*pred_probas.shape[0]\n",
    "for i in range(0,pred_probas.shape[0]):\n",
    "    predsn_prob[i]=sorted(zip(gridGB.classes_,pred_probas[i]),key=lambda x:-x[1])[0:n]\n",
    "[[[le.transform([x[i][0]])[0],x[i][1]]  for i in range(0,n)] for x in predsn_prob]"
   ]
  },
  {
   "cell_type": "code",
   "execution_count": null,
   "metadata": {},
   "outputs": [],
   "source": [
    "#Analysis of Boosted trees convergence\n",
    "\n",
    "#Encoding labels\n",
    "le=preprocessing.LabelEncoder()\n",
    "le.fit(y)\n",
    "\n",
    "#Defining model\n",
    "data_dmatrix = xgb.DMatrix(data=X, label=le.transform(y))\n",
    "\n",
    "gbm_param_grid = {\"objective\":\"multi:softmax\",\n",
    "\n",
    "                  \"max_depth\":3,\n",
    "\n",
    "                    \"verbosity\": 0,\n",
    "\n",
    "                    \"lambda\" : 0.01, \"alpha\": 0.0,\n",
    "\n",
    "                     \"eta\": 0.1,\n",
    "\n",
    "                     \"colsample_bytree\": 0.2,\n",
    "                 \"num_class\":len(set(y)),'nthread':4,}\n",
    "\n",
    " \n",
    "\n",
    "# Perform cross-validation: cv_results\n",
    "start = time.time()\n",
    "gbm_cv = xgb.cv(dtrain=data_dmatrix,\n",
    "\n",
    "                    params=gbm_param_grid,\n",
    "\n",
    "                    stratified =True,\n",
    "\n",
    "                    nfold=5,\n",
    "\n",
    "                    num_boost_round=100,\n",
    "\n",
    "                    metrics=\"merror\",\n",
    "\n",
    "                    as_pandas=True, seed=123,verbose_eval =None)\n",
    "\n",
    "                             \n",
    "\n",
    "end = time.time()\n",
    "t=end-start\n",
    "print('Trainning time ',t,' s')"
   ]
  },
  {
   "cell_type": "code",
   "execution_count": null,
   "metadata": {},
   "outputs": [],
   "source": [
    "#Accuracy vs number of rounds\n",
    "plt.plot(1-gbm_cv['test-merror-mean'])\n",
    "plt.xlabel(\"Number of rounds\")\n",
    "plt.ylabel(\"Accuracy\")\n",
    "plt.show()  "
   ]
  }
 ],
 "metadata": {
  "kernelspec": {
   "display_name": "Python 3",
   "language": "python",
   "name": "python3"
  },
  "language_info": {
   "codemirror_mode": {
    "name": "ipython",
    "version": 3
   },
   "file_extension": ".py",
   "mimetype": "text/x-python",
   "name": "python",
   "nbconvert_exporter": "python",
   "pygments_lexer": "ipython3",
   "version": "3.6.8"
  }
 },
 "nbformat": 4,
 "nbformat_minor": 2
}
